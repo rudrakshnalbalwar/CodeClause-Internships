{
  "nbformat": 4,
  "nbformat_minor": 0,
  "metadata": {
    "colab": {
      "provenance": [],
      "authorship_tag": "ABX9TyPTjayL0n9+16Udh+xt49gS",
      "include_colab_link": true
    },
    "kernelspec": {
      "name": "python3",
      "display_name": "Python 3"
    },
    "language_info": {
      "name": "python"
    }
  },
  "cells": [
    {
      "cell_type": "markdown",
      "metadata": {
        "id": "view-in-github",
        "colab_type": "text"
      },
      "source": [
        "<a href=\"https://colab.research.google.com/github/rudrakshnalbalwar/CodeClause-Internships/blob/main/chatbot.ipynb\" target=\"_parent\"><img src=\"https://colab.research.google.com/assets/colab-badge.svg\" alt=\"Open In Colab\"/></a>"
      ]
    },
    {
      "cell_type": "code",
      "source": [
        "import nltk\n",
        "from nltk.chat.util import Chat, reflections\n",
        "import spacy\n",
        "import random\n",
        "\n",
        "# Load spaCy model\n",
        "nlp = spacy.load(\"en_core_web_sm\")\n",
        "\n",
        "# Enhanced conversation pairs\n",
        "pairs = [\n",
        "    [\n",
        "        r\"my name is (.*)\",\n",
        "        [\"Hello %1, How are you today?\", \"Nice to meet you %1! How can I assist you today?\"]\n",
        "    ],\n",
        "    [\n",
        "        r\"hi|hey|hello\",\n",
        "        [\"Hello!\", \"Hey there!\", \"Hi! How can I help you?\"]\n",
        "    ],\n",
        "    [\n",
        "        r\"what is your name?\",\n",
        "        [\"I am a chatbot. You can call me Friday.\", \"I am friday, your virtual assistant.\"]\n",
        "    ],\n",
        "    [\n",
        "        r\"how are you?\",\n",
        "        [\"I'm doing great, thank you! How about you?\", \"I'm fine, how can I assist you today?\"]\n",
        "    ],\n",
        "    [\n",
        "        r\"sorry (.*)\",\n",
        "        [\"No problem at all.\", \"It's alright, don't worry about it.\", \"No worries!\"]\n",
        "    ],\n",
        "    [\n",
        "        r\"I am (.*) (good|well|okay|ok)\",\n",
        "        [\"Glad to hear that!\", \"That's great to know!\", \"Happy to hear you're doing well.\"]\n",
        "    ],\n",
        "    [\n",
        "        r\"(.*) age?\",\n",
        "        [\"I am a computer program, so I don't have an age.\", \"I'm timeless. Age doesn't apply to me.\"]\n",
        "    ],\n",
        "    [\n",
        "        r\"what can you do?\",\n",
        "        [\"I can assist you with various tasks, chat with you, and provide information.\", \"I can help with your questions, provide information, and keep you company!\"]\n",
        "    ],\n",
        "    [\n",
        "        r\"tell me a joke\",\n",
        "        [\"Why don't scientists trust atoms? Because they make up everything!\", \"Why did the scarecrow win an award? Because he was outstanding in his field!\"]\n",
        "    ],\n",
        "    [\n",
        "        r\"quit\",\n",
        "        [\"Goodbye! Have a nice day.\", \"It was nice talking to you. See you soon!\"]\n",
        "    ],\n",
        "    [\n",
        "        r\"(.*)\",\n",
        "        [\"I'm not sure I understand. Can you please rephrase?\", \"Could you please elaborate?\", \"I'm sorry, I don't know how to respond to that.\"]\n",
        "    ],\n",
        "]\n",
        "\n",
        "# Function to generate a response using spaCy\n",
        "def generate_response(user_input):\n",
        "    doc = nlp(user_input)\n",
        "    # Basic named entity recognition\n",
        "    entities = {ent.label_: ent.text for ent in doc.ents}\n",
        "\n",
        "    if 'GPE' in entities:\n",
        "        return f\"Are you talking about {entities['GPE']}? It's a wonderful place!\"\n",
        "    if 'PERSON' in entities:\n",
        "        return f\"{entities['PERSON']} sounds like an interesting person!\"\n",
        "\n",
        "    # Default response if no entities found\n",
        "    return random.choice([\"I'm not sure I understand. Can you please rephrase?\", \"Could you please elaborate?\", \"I'm sorry, I don't know how to respond to that.\"])\n",
        "\n",
        "# Creating the enhanced chatbot\n",
        "class EnhancedChat(Chat):\n",
        "    def respond(self, str):\n",
        "        # Use spaCy to generate a response if none of the pairs match\n",
        "        response = super().respond(str)\n",
        "        if response is None:\n",
        "            response = generate_response(str)\n",
        "        return response\n",
        "\n",
        "def chatbot():\n",
        "    print(\"Hi, I'm your enhanced chatbot. Type 'quit' to exit.\")\n",
        "    chat = EnhancedChat(pairs, reflections)\n",
        "    chat.converse()\n",
        "\n",
        "if __name__ == \"__main__\":\n",
        "    chatbot()\n"
      ],
      "metadata": {
        "colab": {
          "base_uri": "https://localhost:8080/"
        },
        "id": "cAY5WYDptjIU",
        "outputId": "f0011d43-98cf-431e-bd2a-014a98ba8beb"
      },
      "execution_count": 4,
      "outputs": [
        {
          "output_type": "stream",
          "name": "stdout",
          "text": [
            "Hi, I'm your enhanced chatbot. Type 'quit' to exit.\n",
            ">Hello\n",
            "Hello!\n",
            ">My name is Rudra\n",
            "Nice to meet you rudra! How can I assist you today?\n",
            ">What is your name\n",
            "I am friday, your virtual assistant.\n",
            ">what can you do\n",
            "I can assist you with various tasks, chat with you, and provide information.\n",
            ">I am good\n",
            "I'm not sure I understand. Can you please rephrase?\n",
            ">I am Well\n",
            "I'm not sure I understand. Can you please rephrase?\n",
            ">your age\n",
            "I'm timeless. Age doesn't apply to me.\n",
            ">Dwarka\n",
            "Could you please elaborate?\n",
            ">tell me a joke\n",
            "Why did the scarecrow win an award? Because he was outstanding in his field!\n",
            ">Quit\n",
            "Goodbye! Have a nice day.\n",
            ">quit\n",
            "It was nice talking to you. See you soon!\n"
          ]
        }
      ]
    },
    {
      "cell_type": "code",
      "source": [],
      "metadata": {
        "id": "QeEhOU3FvG9X"
      },
      "execution_count": null,
      "outputs": []
    }
  ]
}